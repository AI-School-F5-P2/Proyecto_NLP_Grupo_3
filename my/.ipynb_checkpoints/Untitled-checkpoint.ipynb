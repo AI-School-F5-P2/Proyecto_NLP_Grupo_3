{
 "cells": [
  {
   "cell_type": "code",
   "execution_count": 8,
   "id": "ffe4716f",
   "metadata": {},
   "outputs": [],
   "source": [
    "import requests\n",
    "import xml.etree.ElementTree as ET"
   ]
  },
  {
   "cell_type": "code",
   "execution_count": 9,
   "id": "a7ec3505",
   "metadata": {},
   "outputs": [],
   "source": [
    "url = 'https://www.youtube.com/feeds/videos.xml?channel_id=UCAJN1nBM1_ulpv-mWEVdNWw'"
   ]
  },
  {
   "cell_type": "code",
   "execution_count": 23,
   "id": "36216b95",
   "metadata": {},
   "outputs": [
    {
     "name": "stdout",
     "output_type": "stream",
     "text": [
      "69te6god4uU\n",
      "kq-MmQuO0Vk\n",
      "UOoOKeTUtXI\n",
      "3VUhUWADkl4\n",
      "GnN-IzQZ4NA\n",
      "rU2svo7VevQ\n",
      "k8gYR-s3J50\n",
      "6TdN1aIr_OE\n",
      "NYKBGOBjD9w\n",
      "dMK0kZEzZ0Y\n",
      "hBWJW4ffbIk\n",
      "Ypf0bg97YJo\n",
      "r8X0CZ7WrQA\n",
      "ZJ_27dUeMqc\n",
      "sIC9Ja0-aNw\n"
     ]
    }
   ],
   "source": [
    "request = requests.get(url, headers={'User-Agent':'Chrome/50.0.2661.94'})\n",
    "contenido = request.content\n",
    "\n",
    "root = ET.fromstring(contenido.decode())\n",
    "\n",
    "lista = root.findall('.//')\n",
    "lista\n",
    "\n",
    "for item in lista:\n",
    "    titulo = item.find('{http://www.youtube.com/xml/schemas/2015}videoId')\n",
    "    if titulo is None:\n",
    "        pass\n",
    "    else:\n",
    "        print(titulo.text)"
   ]
  },
  {
   "cell_type": "code",
   "execution_count": null,
   "id": "535758e9",
   "metadata": {},
   "outputs": [],
   "source": []
  }
 ],
 "metadata": {
  "kernelspec": {
   "display_name": "Python 3 (ipykernel)",
   "language": "python",
   "name": "python3"
  },
  "language_info": {
   "codemirror_mode": {
    "name": "ipython",
    "version": 3
   },
   "file_extension": ".py",
   "mimetype": "text/x-python",
   "name": "python",
   "nbconvert_exporter": "python",
   "pygments_lexer": "ipython3",
   "version": "3.11.5"
  }
 },
 "nbformat": 4,
 "nbformat_minor": 5
}
