{
 "cells": [
  {
   "cell_type": "code",
   "execution_count": 24,
   "id": "b58dec6a",
   "metadata": {},
   "outputs": [],
   "source": [
    "import requests\n",
    "import xml.etree.ElementTree as ET"
   ]
  },
  {
   "cell_type": "code",
   "execution_count": null,
   "id": "2ece8942",
   "metadata": {},
   "outputs": [],
   "source": []
  },
  {
   "cell_type": "code",
   "execution_count": 25,
   "id": "3659b546",
   "metadata": {},
   "outputs": [
    {
     "name": "stdout",
     "output_type": "stream",
     "text": [
      "69te6god4uU\n",
      "kq-MmQuO0Vk\n",
      "UOoOKeTUtXI\n",
      "3VUhUWADkl4\n",
      "GnN-IzQZ4NA\n",
      "rU2svo7VevQ\n",
      "k8gYR-s3J50\n",
      "6TdN1aIr_OE\n",
      "NYKBGOBjD9w\n",
      "dMK0kZEzZ0Y\n",
      "hBWJW4ffbIk\n",
      "Ypf0bg97YJo\n",
      "r8X0CZ7WrQA\n",
      "ZJ_27dUeMqc\n",
      "sIC9Ja0-aNw\n"
     ]
    }
   ],
   "source": [
    "url = 'https://www.youtube.com/feeds/videos.xml?channel_id=UCAJN1nBM1_ulpv-mWEVdNWw'\n",
    "\n",
    "request = requests.get(url, headers={'User-Agent':'Chrome/50.0.2661.94'})\n",
    "contenido = request.content\n",
    "\n",
    "root = ET.fromstring(contenido.decode())\n",
    "\n",
    "lista = root.findall('.//')\n",
    "lista\n",
    "\n",
    "for item in lista:\n",
    "    titulo = item.find('{http://www.youtube.com/xml/schemas/2015}videoId')\n",
    "    if titulo is None:\n",
    "        pass\n",
    "    else:\n",
    "        print(titulo.text)"
   ]
  },
  {
   "cell_type": "code",
   "execution_count": null,
   "id": "fdbd8770",
   "metadata": {},
   "outputs": [],
   "source": []
  }
 ],
 "metadata": {
  "kernelspec": {
   "display_name": "Python 3 (ipykernel)",
   "language": "python",
   "name": "python3"
  },
  "language_info": {
   "codemirror_mode": {
    "name": "ipython",
    "version": 3
   },
   "file_extension": ".py",
   "mimetype": "text/x-python",
   "name": "python",
   "nbconvert_exporter": "python",
   "pygments_lexer": "ipython3",
   "version": "3.11.5"
  }
 },
 "nbformat": 4,
 "nbformat_minor": 5
}
